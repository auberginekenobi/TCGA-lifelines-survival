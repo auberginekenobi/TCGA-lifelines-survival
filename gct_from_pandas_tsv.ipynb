{
 "cells": [
  {
   "cell_type": "code",
   "execution_count": 9,
   "metadata": {},
   "outputs": [
    {
     "name": "stdout",
     "output_type": "stream",
     "text": [
      "/mnt/c/Users/chapmano/Documents/CSE283_Omics/project\n"
     ]
    }
   ],
   "source": [
    "import os\n",
    "import pandas as pd\n",
    "from functools import reduce\n",
    "print(os.getcwd())"
   ]
  },
  {
   "cell_type": "code",
   "execution_count": 10,
   "metadata": {},
   "outputs": [],
   "source": [
    "INPUT_PATH = './rnaseq/KIRC_formatted.tsv'\n",
    "OUTPUT_PATH = './rnaseq/KIRC_formatted'"
   ]
  },
  {
   "cell_type": "code",
   "execution_count": 11,
   "metadata": {},
   "outputs": [],
   "source": [
    "def read_deseq2(inputpath = INPUT_PATH):\n",
    "    df = pd.read_csv(inputpath,sep='\\t')\n",
    "    return df\n",
    "def format_df(df):\n",
    "    '''\n",
    "    formats a df given by read_deseq2 into a pandas dataframe compatible\n",
    "    with .gct file format.\n",
    "    '''\n",
    "    df=df.rename(mapper={'id':'NAME'},axis=1)\n",
    "    df['Description']='NA'\n",
    "    t=list(df.columns)\n",
    "    df=df[[t[0],t[-1]]+t[1:-1]]\n",
    "    return df\n",
    "def write_gct(df,outputpath= OUTPUT_PATH):\n",
    "    n_rows,n_cols = df.shape\n",
    "    n_cols-=2\n",
    "    string = df.to_csv(sep='\\t',index=False,encoding='utf-8')\n",
    "    string = '#1.2\\n{}\\t{}\\n'.format(n_rows,n_cols) + string\n",
    "    with open(outputpath+'.gct','w') as f:\n",
    "        f.write(string)"
   ]
  },
  {
   "cell_type": "code",
   "execution_count": 12,
   "metadata": {},
   "outputs": [],
   "source": [
    "df = read_deseq2()\n",
    "df=format_df(df)\n",
    "write_gct(df)"
   ]
  },
  {
   "cell_type": "code",
   "execution_count": 6,
   "metadata": {},
   "outputs": [
    {
     "name": "stdout",
     "output_type": "stream",
     "text": [
      "[2, 3, 4, 5, 6]\n"
     ]
    }
   ],
   "source": [
    "a=[1,2,3,4,5,6,7]\n",
    "print(a[1:-1])"
   ]
  },
  {
   "cell_type": "code",
   "execution_count": null,
   "metadata": {},
   "outputs": [],
   "source": []
  }
 ],
 "metadata": {
  "kernelspec": {
   "display_name": "Python 3",
   "language": "python",
   "name": "python3"
  },
  "language_info": {
   "codemirror_mode": {
    "name": "ipython",
    "version": 3
   },
   "file_extension": ".py",
   "mimetype": "text/x-python",
   "name": "python",
   "nbconvert_exporter": "python",
   "pygments_lexer": "ipython3",
   "version": "3.6.5"
  }
 },
 "nbformat": 4,
 "nbformat_minor": 2
}
